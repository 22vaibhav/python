{
 "cells": [
  {
   "cell_type": "code",
   "execution_count": null,
   "id": "8b62b91d",
   "metadata": {},
   "outputs": [],
   "source": [
    "set: it is collection of unique element\n",
    "    it is the unordere type\n",
    "    \n",
    "    {at least one element}\n",
    "    indexing is not posssible\n",
    "    it mutable type "
   ]
  },
  {
   "cell_type": "code",
   "execution_count": null,
   "id": "75ee1978",
   "metadata": {},
   "outputs": [],
   "source": []
  },
  {
   "cell_type": "code",
   "execution_count": 4,
   "id": "70caeb55",
   "metadata": {},
   "outputs": [],
   "source": [
    "p = [ 1,34,45,'java','python',56,67,'c']"
   ]
  },
  {
   "cell_type": "code",
   "execution_count": 5,
   "id": "44ec1d94",
   "metadata": {},
   "outputs": [
    {
     "data": {
      "text/plain": [
       "[1, 34, 45, 'java', 'python', 56, 67, 'c']"
      ]
     },
     "execution_count": 5,
     "metadata": {},
     "output_type": "execute_result"
    }
   ],
   "source": [
    "p"
   ]
  },
  {
   "cell_type": "code",
   "execution_count": 6,
   "id": "460f1cfe",
   "metadata": {},
   "outputs": [],
   "source": [
    "py_set = {1, 34, 45, 'java', 'python', 56, 67, 'c'}\n"
   ]
  },
  {
   "cell_type": "code",
   "execution_count": 7,
   "id": "125481aa",
   "metadata": {},
   "outputs": [
    {
     "data": {
      "text/plain": [
       "set"
      ]
     },
     "execution_count": 7,
     "metadata": {},
     "output_type": "execute_result"
    }
   ],
   "source": [
    "type(py_set)"
   ]
  },
  {
   "cell_type": "code",
   "execution_count": 8,
   "id": "92780b13",
   "metadata": {},
   "outputs": [
    {
     "data": {
      "text/plain": [
       "{1, 34, 45, 56, 67, 'c', 'java', 'python'}"
      ]
     },
     "execution_count": 8,
     "metadata": {},
     "output_type": "execute_result"
    }
   ],
   "source": [
    "py_set"
   ]
  },
  {
   "cell_type": "code",
   "execution_count": 9,
   "id": "dfa8436e",
   "metadata": {},
   "outputs": [
    {
     "ename": "TypeError",
     "evalue": "'set' object is not callable",
     "output_type": "error",
     "traceback": [
      "\u001b[1;31m---------------------------------------------------------------------------\u001b[0m",
      "\u001b[1;31mTypeError\u001b[0m                                 Traceback (most recent call last)",
      "Input \u001b[1;32mIn [9]\u001b[0m, in \u001b[0;36m<cell line: 1>\u001b[1;34m()\u001b[0m\n\u001b[1;32m----> 1\u001b[0m \u001b[43mpy_set\u001b[49m\u001b[43m(\u001b[49m\u001b[38;5;241;43m0\u001b[39;49m\u001b[43m)\u001b[49m\n",
      "\u001b[1;31mTypeError\u001b[0m: 'set' object is not callable"
     ]
    }
   ],
   "source": [
    "py_set(0)"
   ]
  },
  {
   "cell_type": "code",
   "execution_count": 13,
   "id": "5091566f",
   "metadata": {},
   "outputs": [],
   "source": [
    "p = {1,1,1,1,1,1,3,4,5,6,7,8,9,}"
   ]
  },
  {
   "cell_type": "code",
   "execution_count": 14,
   "id": "2650a92f",
   "metadata": {},
   "outputs": [
    {
     "data": {
      "text/plain": [
       "{1, 3, 4, 5, 6, 7, 8, 9}"
      ]
     },
     "execution_count": 14,
     "metadata": {},
     "output_type": "execute_result"
    }
   ],
   "source": [
    "p"
   ]
  },
  {
   "cell_type": "code",
   "execution_count": null,
   "id": "2c7ef8e4",
   "metadata": {},
   "outputs": [],
   "source": [
    "set\n",
    "\n",
    "common element\n",
    "\n",
    "uncommon\n",
    "\n",
    "dif"
   ]
  },
  {
   "cell_type": "code",
   "execution_count": 15,
   "id": "4ca614f7",
   "metadata": {},
   "outputs": [],
   "source": [
    "py_set = {35,56,67,89,98,4,5,5,2,3,3,3,6,7,8,9,6}"
   ]
  },
  {
   "cell_type": "code",
   "execution_count": 16,
   "id": "a285f608",
   "metadata": {},
   "outputs": [
    {
     "data": {
      "text/plain": [
       "{2, 3, 4, 5, 6, 7, 8, 9, 35, 56, 67, 89, 98}"
      ]
     },
     "execution_count": 16,
     "metadata": {},
     "output_type": "execute_result"
    }
   ],
   "source": [
    "py_set"
   ]
  },
  {
   "cell_type": "code",
   "execution_count": null,
   "id": "38df7b65",
   "metadata": {},
   "outputs": [],
   "source": [
    "inset\n",
    "delete\n",
    "update"
   ]
  },
  {
   "cell_type": "code",
   "execution_count": null,
   "id": "153d47ba",
   "metadata": {},
   "outputs": [],
   "source": [
    "#insertion operation\n",
    "add()-- single element\n",
    "update()"
   ]
  },
  {
   "cell_type": "code",
   "execution_count": 17,
   "id": "19b8c430",
   "metadata": {},
   "outputs": [],
   "source": [
    "py_set.add(100)"
   ]
  },
  {
   "cell_type": "code",
   "execution_count": 18,
   "id": "ba805f05",
   "metadata": {},
   "outputs": [
    {
     "data": {
      "text/plain": [
       "{2, 3, 4, 5, 6, 7, 8, 9, 35, 56, 67, 89, 98, 100}"
      ]
     },
     "execution_count": 18,
     "metadata": {},
     "output_type": "execute_result"
    }
   ],
   "source": [
    "py_set"
   ]
  },
  {
   "cell_type": "code",
   "execution_count": 19,
   "id": "6fdd0749",
   "metadata": {},
   "outputs": [],
   "source": [
    "py_set.add(1)  # single element at any position"
   ]
  },
  {
   "cell_type": "code",
   "execution_count": 20,
   "id": "8567655b",
   "metadata": {},
   "outputs": [
    {
     "data": {
      "text/plain": [
       "{1, 2, 3, 4, 5, 6, 7, 8, 9, 35, 56, 67, 89, 98, 100}"
      ]
     },
     "execution_count": 20,
     "metadata": {},
     "output_type": "execute_result"
    }
   ],
   "source": [
    "py_set"
   ]
  },
  {
   "cell_type": "code",
   "execution_count": 21,
   "id": "c78d455c",
   "metadata": {},
   "outputs": [],
   "source": [
    "py_set.add('c')"
   ]
  },
  {
   "cell_type": "code",
   "execution_count": 22,
   "id": "df359dfc",
   "metadata": {},
   "outputs": [
    {
     "data": {
      "text/plain": [
       "{1, 100, 2, 3, 35, 4, 5, 56, 6, 67, 7, 8, 89, 9, 98, 'c'}"
      ]
     },
     "execution_count": 22,
     "metadata": {},
     "output_type": "execute_result"
    }
   ],
   "source": [
    "py_set"
   ]
  },
  {
   "cell_type": "code",
   "execution_count": 23,
   "id": "30e7f7ff",
   "metadata": {},
   "outputs": [],
   "source": [
    "#add multiple elements"
   ]
  },
  {
   "cell_type": "code",
   "execution_count": 24,
   "id": "557fee91",
   "metadata": {},
   "outputs": [],
   "source": [
    "py_set.update(['python','java','c+','c++'])"
   ]
  },
  {
   "cell_type": "code",
   "execution_count": 25,
   "id": "e0dc5b39",
   "metadata": {},
   "outputs": [
    {
     "data": {
      "text/plain": [
       "{1,\n",
       " 100,\n",
       " 2,\n",
       " 3,\n",
       " 35,\n",
       " 4,\n",
       " 5,\n",
       " 56,\n",
       " 6,\n",
       " 67,\n",
       " 7,\n",
       " 8,\n",
       " 89,\n",
       " 9,\n",
       " 98,\n",
       " 'c',\n",
       " 'c+',\n",
       " 'c++',\n",
       " 'java',\n",
       " 'python'}"
      ]
     },
     "execution_count": 25,
     "metadata": {},
     "output_type": "execute_result"
    }
   ],
   "source": [
    "py_set"
   ]
  },
  {
   "cell_type": "code",
   "execution_count": null,
   "id": "516ea4c1",
   "metadata": {},
   "outputs": [],
   "source": [
    "group ----- of element-----> [],(),{}"
   ]
  },
  {
   "cell_type": "code",
   "execution_count": 26,
   "id": "786da65b",
   "metadata": {},
   "outputs": [],
   "source": [
    "py_set.add(100)"
   ]
  },
  {
   "cell_type": "code",
   "execution_count": 27,
   "id": "11aca8e3",
   "metadata": {},
   "outputs": [
    {
     "data": {
      "text/plain": [
       "{1,\n",
       " 100,\n",
       " 2,\n",
       " 3,\n",
       " 35,\n",
       " 4,\n",
       " 5,\n",
       " 56,\n",
       " 6,\n",
       " 67,\n",
       " 7,\n",
       " 8,\n",
       " 89,\n",
       " 9,\n",
       " 98,\n",
       " 'c',\n",
       " 'c+',\n",
       " 'c++',\n",
       " 'java',\n",
       " 'python'}"
      ]
     },
     "execution_count": 27,
     "metadata": {},
     "output_type": "execute_result"
    }
   ],
   "source": [
    "py_set"
   ]
  },
  {
   "cell_type": "code",
   "execution_count": 28,
   "id": "462eff38",
   "metadata": {},
   "outputs": [],
   "source": [
    "p = [1,2,3]"
   ]
  },
  {
   "cell_type": "code",
   "execution_count": 29,
   "id": "3df8e68a",
   "metadata": {},
   "outputs": [],
   "source": [
    "p.extend([100,200,300])"
   ]
  },
  {
   "cell_type": "code",
   "execution_count": 30,
   "id": "fbe6acb1",
   "metadata": {},
   "outputs": [
    {
     "data": {
      "text/plain": [
       "[1, 2, 3, 100, 200, 300]"
      ]
     },
     "execution_count": 30,
     "metadata": {},
     "output_type": "execute_result"
    }
   ],
   "source": [
    "p"
   ]
  },
  {
   "cell_type": "code",
   "execution_count": 34,
   "id": "597f0f8e",
   "metadata": {},
   "outputs": [],
   "source": [
    "p.extend({22,33,44,56,76})"
   ]
  },
  {
   "cell_type": "code",
   "execution_count": 35,
   "id": "d92394e9",
   "metadata": {},
   "outputs": [
    {
     "data": {
      "text/plain": [
       "[1, 2, 3, 100, 200, 300, 33, 44, 22, 33, 22, 56, 44, 76]"
      ]
     },
     "execution_count": 35,
     "metadata": {},
     "output_type": "execute_result"
    }
   ],
   "source": [
    "p"
   ]
  },
  {
   "cell_type": "code",
   "execution_count": 39,
   "id": "65022c71",
   "metadata": {},
   "outputs": [],
   "source": [
    "p.append(100)"
   ]
  },
  {
   "cell_type": "code",
   "execution_count": 40,
   "id": "19166205",
   "metadata": {},
   "outputs": [
    {
     "data": {
      "text/plain": [
       "[1, 2, 3, 100, 200, 300, 33, 44, 22, 33, 22, 56, 44, 76, 100]"
      ]
     },
     "execution_count": 40,
     "metadata": {},
     "output_type": "execute_result"
    }
   ],
   "source": [
    "p"
   ]
  },
  {
   "cell_type": "code",
   "execution_count": null,
   "id": "fb5420b2",
   "metadata": {},
   "outputs": [],
   "source": [
    "()-->\n",
    "([],(),{})"
   ]
  },
  {
   "cell_type": "code",
   "execution_count": 41,
   "id": "ffce8f56",
   "metadata": {},
   "outputs": [],
   "source": [
    "p = {1, 100, 34, 4, 5, 54, 56, 6, 7, 8, 'c', 'c++', 'java', 'python'}"
   ]
  },
  {
   "cell_type": "code",
   "execution_count": 42,
   "id": "9a377c11",
   "metadata": {},
   "outputs": [],
   "source": [
    "p.add(2)"
   ]
  },
  {
   "cell_type": "code",
   "execution_count": 43,
   "id": "f47f1831",
   "metadata": {},
   "outputs": [
    {
     "data": {
      "text/plain": [
       "{1, 100, 2, 34, 4, 5, 54, 56, 6, 7, 8, 'c', 'c++', 'java', 'python'}"
      ]
     },
     "execution_count": 43,
     "metadata": {},
     "output_type": "execute_result"
    }
   ],
   "source": [
    "p"
   ]
  },
  {
   "cell_type": "code",
   "execution_count": null,
   "id": "19ed26ca",
   "metadata": {},
   "outputs": [],
   "source": [
    "asc/desc"
   ]
  },
  {
   "cell_type": "code",
   "execution_count": 47,
   "id": "5e301d69",
   "metadata": {},
   "outputs": [],
   "source": [
    "p = {1,2,3,4,5,6}"
   ]
  },
  {
   "cell_type": "code",
   "execution_count": 49,
   "id": "ec0e1ac5",
   "metadata": {},
   "outputs": [],
   "source": [
    "p.add(24)"
   ]
  },
  {
   "cell_type": "code",
   "execution_count": 50,
   "id": "1d497195",
   "metadata": {},
   "outputs": [
    {
     "data": {
      "text/plain": [
       "{1, 2, 3, 4, 5, 6, 24}"
      ]
     },
     "execution_count": 50,
     "metadata": {},
     "output_type": "execute_result"
    }
   ],
   "source": [
    "p"
   ]
  },
  {
   "cell_type": "code",
   "execution_count": 51,
   "id": "4bf8029f",
   "metadata": {},
   "outputs": [],
   "source": [
    "p.add(200)"
   ]
  },
  {
   "cell_type": "code",
   "execution_count": 52,
   "id": "82232557",
   "metadata": {},
   "outputs": [
    {
     "data": {
      "text/plain": [
       "{1, 2, 3, 4, 5, 6, 24, 200}"
      ]
     },
     "execution_count": 52,
     "metadata": {},
     "output_type": "execute_result"
    }
   ],
   "source": [
    "p"
   ]
  },
  {
   "cell_type": "code",
   "execution_count": 53,
   "id": "28dc73e7",
   "metadata": {},
   "outputs": [],
   "source": [
    "p.add('c')"
   ]
  },
  {
   "cell_type": "code",
   "execution_count": 54,
   "id": "1ab37003",
   "metadata": {},
   "outputs": [
    {
     "data": {
      "text/plain": [
       "{1, 2, 200, 24, 3, 4, 5, 6, 'c'}"
      ]
     },
     "execution_count": 54,
     "metadata": {},
     "output_type": "execute_result"
    }
   ],
   "source": [
    "p"
   ]
  },
  {
   "cell_type": "code",
   "execution_count": null,
   "id": "72cb834f",
   "metadata": {},
   "outputs": [],
   "source": [
    "add()-- single\n",
    "update()-- multiple "
   ]
  },
  {
   "cell_type": "markdown",
   "id": "41264faf",
   "metadata": {},
   "source": [
    "remove()\n",
    "discard()\n",
    "pop()"
   ]
  },
  {
   "cell_type": "code",
   "execution_count": null,
   "id": "471134e9",
   "metadata": {},
   "outputs": [],
   "source": [
    "remove(element)"
   ]
  },
  {
   "cell_type": "code",
   "execution_count": 55,
   "id": "bae2c34c",
   "metadata": {},
   "outputs": [
    {
     "data": {
      "text/plain": [
       "{1,\n",
       " 100,\n",
       " 2,\n",
       " 3,\n",
       " 35,\n",
       " 4,\n",
       " 5,\n",
       " 56,\n",
       " 6,\n",
       " 67,\n",
       " 7,\n",
       " 8,\n",
       " 89,\n",
       " 9,\n",
       " 98,\n",
       " 'c',\n",
       " 'c+',\n",
       " 'c++',\n",
       " 'java',\n",
       " 'python'}"
      ]
     },
     "execution_count": 55,
     "metadata": {},
     "output_type": "execute_result"
    }
   ],
   "source": [
    "py_set"
   ]
  },
  {
   "cell_type": "code",
   "execution_count": 57,
   "id": "95e3d934",
   "metadata": {},
   "outputs": [],
   "source": [
    "py_set.remove(9)"
   ]
  },
  {
   "cell_type": "code",
   "execution_count": 59,
   "id": "75a9fe84",
   "metadata": {},
   "outputs": [
    {
     "data": {
      "text/plain": [
       "{1, 2, 200, 24, 3, 4, 5, 6, 'c'}"
      ]
     },
     "execution_count": 59,
     "metadata": {},
     "output_type": "execute_result"
    }
   ],
   "source": [
    "p"
   ]
  },
  {
   "cell_type": "code",
   "execution_count": null,
   "id": "f7ec0ef7",
   "metadata": {},
   "outputs": [],
   "source": [
    "remove - hard delete"
   ]
  },
  {
   "cell_type": "code",
   "execution_count": 61,
   "id": "ed1d6099",
   "metadata": {},
   "outputs": [
    {
     "ename": "KeyError",
     "evalue": "24",
     "output_type": "error",
     "traceback": [
      "\u001b[1;31m---------------------------------------------------------------------------\u001b[0m",
      "\u001b[1;31mKeyError\u001b[0m                                  Traceback (most recent call last)",
      "Input \u001b[1;32mIn [61]\u001b[0m, in \u001b[0;36m<cell line: 1>\u001b[1;34m()\u001b[0m\n\u001b[1;32m----> 1\u001b[0m \u001b[43mpy_set\u001b[49m\u001b[38;5;241;43m.\u001b[39;49m\u001b[43mremove\u001b[49m\u001b[43m(\u001b[49m\u001b[38;5;241;43m24\u001b[39;49m\u001b[43m)\u001b[49m\n",
      "\u001b[1;31mKeyError\u001b[0m: 24"
     ]
    }
   ],
   "source": [
    "py_set.remove(24)"
   ]
  },
  {
   "cell_type": "code",
   "execution_count": 62,
   "id": "06fb41af",
   "metadata": {},
   "outputs": [
    {
     "data": {
      "text/plain": [
       "{1,\n",
       " 100,\n",
       " 2,\n",
       " 3,\n",
       " 35,\n",
       " 4,\n",
       " 5,\n",
       " 56,\n",
       " 6,\n",
       " 67,\n",
       " 7,\n",
       " 8,\n",
       " 89,\n",
       " 98,\n",
       " 'c',\n",
       " 'c+',\n",
       " 'c++',\n",
       " 'java',\n",
       " 'python'}"
      ]
     },
     "execution_count": 62,
     "metadata": {},
     "output_type": "execute_result"
    }
   ],
   "source": [
    "py_set"
   ]
  },
  {
   "cell_type": "code",
   "execution_count": null,
   "id": "28a697fe",
   "metadata": {},
   "outputs": [],
   "source": [
    "list ---- remove ---- element\n",
    "list ----pop----element---- store"
   ]
  },
  {
   "cell_type": "code",
   "execution_count": null,
   "id": "0e2c3ae0",
   "metadata": {},
   "outputs": [],
   "source": [
    "p[]"
   ]
  },
  {
   "cell_type": "code",
   "execution_count": 67,
   "id": "80416e9a",
   "metadata": {},
   "outputs": [
    {
     "ename": "KeyError",
     "evalue": "100",
     "output_type": "error",
     "traceback": [
      "\u001b[1;31m---------------------------------------------------------------------------\u001b[0m",
      "\u001b[1;31mKeyError\u001b[0m                                  Traceback (most recent call last)",
      "Input \u001b[1;32mIn [67]\u001b[0m, in \u001b[0;36m<cell line: 1>\u001b[1;34m()\u001b[0m\n\u001b[1;32m----> 1\u001b[0m \u001b[43mp\u001b[49m\u001b[38;5;241;43m.\u001b[39;49m\u001b[43mremove\u001b[49m\u001b[43m(\u001b[49m\u001b[38;5;241;43m100\u001b[39;49m\u001b[43m)\u001b[49m\n",
      "\u001b[1;31mKeyError\u001b[0m: 100"
     ]
    }
   ],
   "source": [
    "p.remove(100)"
   ]
  },
  {
   "cell_type": "code",
   "execution_count": 68,
   "id": "fc220ac2",
   "metadata": {},
   "outputs": [],
   "source": [
    "py_set.discard(100)"
   ]
  },
  {
   "cell_type": "code",
   "execution_count": 69,
   "id": "9dc5afaf",
   "metadata": {},
   "outputs": [
    {
     "data": {
      "text/plain": [
       "{1,\n",
       " 2,\n",
       " 3,\n",
       " 35,\n",
       " 4,\n",
       " 5,\n",
       " 56,\n",
       " 6,\n",
       " 67,\n",
       " 7,\n",
       " 8,\n",
       " 89,\n",
       " 98,\n",
       " 'c',\n",
       " 'c+',\n",
       " 'c++',\n",
       " 'java',\n",
       " 'python'}"
      ]
     },
     "execution_count": 69,
     "metadata": {},
     "output_type": "execute_result"
    }
   ],
   "source": [
    "py_set"
   ]
  },
  {
   "cell_type": "code",
   "execution_count": null,
   "id": "cf12e4c4",
   "metadata": {},
   "outputs": [],
   "source": [
    "discard(....)\n",
    "remove an element from the set if it isa a memeber \n",
    "if element is not a member do nothing\n",
    "===================================================\n",
    "remove(....)\n",
    "remove and element from the set, it must be memeber\n",
    "if element not a member , raise a error\n"
   ]
  },
  {
   "cell_type": "code",
   "execution_count": 70,
   "id": "8f511d4d",
   "metadata": {},
   "outputs": [
    {
     "data": {
      "text/plain": [
       "1"
      ]
     },
     "execution_count": 70,
     "metadata": {},
     "output_type": "execute_result"
    }
   ],
   "source": [
    "py_set.pop()"
   ]
  },
  {
   "cell_type": "code",
   "execution_count": 71,
   "id": "cf9a94e8",
   "metadata": {},
   "outputs": [
    {
     "data": {
      "text/plain": [
       "2"
      ]
     },
     "execution_count": 71,
     "metadata": {},
     "output_type": "execute_result"
    }
   ],
   "source": [
    "py_set.pop()"
   ]
  },
  {
   "cell_type": "code",
   "execution_count": 72,
   "id": "f4c21049",
   "metadata": {},
   "outputs": [
    {
     "data": {
      "text/plain": [
       "3"
      ]
     },
     "execution_count": 72,
     "metadata": {},
     "output_type": "execute_result"
    }
   ],
   "source": [
    "py_set.pop()"
   ]
  },
  {
   "cell_type": "code",
   "execution_count": null,
   "id": "68cd9082",
   "metadata": {},
   "outputs": [],
   "source": [
    "pop---- randomly delete----->ml--- dataset---  scale down \n",
    "discard ----element delete soft--->\n",
    "pop --- randomly delete\n"
   ]
  },
  {
   "cell_type": "code",
   "execution_count": 73,
   "id": "836b9964",
   "metadata": {},
   "outputs": [
    {
     "data": {
      "text/plain": [
       "4"
      ]
     },
     "execution_count": 73,
     "metadata": {},
     "output_type": "execute_result"
    }
   ],
   "source": [
    "py_set.pop()"
   ]
  },
  {
   "cell_type": "code",
   "execution_count": 76,
   "id": "5aca29be",
   "metadata": {},
   "outputs": [],
   "source": [
    "p = {5,6,7,56,78,60,'c','c++'}"
   ]
  },
  {
   "cell_type": "code",
   "execution_count": 77,
   "id": "fe0fe55e",
   "metadata": {},
   "outputs": [
    {
     "data": {
      "text/plain": [
       "5"
      ]
     },
     "execution_count": 77,
     "metadata": {},
     "output_type": "execute_result"
    }
   ],
   "source": [
    "p.pop()"
   ]
  },
  {
   "cell_type": "code",
   "execution_count": 78,
   "id": "7a7d1637",
   "metadata": {},
   "outputs": [],
   "source": [
    "temp = set()"
   ]
  },
  {
   "cell_type": "code",
   "execution_count": 80,
   "id": "72e4593d",
   "metadata": {},
   "outputs": [],
   "source": [
    "temp.add(p.pop())"
   ]
  },
  {
   "cell_type": "code",
   "execution_count": 81,
   "id": "b8ac4a80",
   "metadata": {},
   "outputs": [
    {
     "data": {
      "text/plain": [
       "{56, 60, 7, 78, 'c', 'c++'}"
      ]
     },
     "execution_count": 81,
     "metadata": {},
     "output_type": "execute_result"
    }
   ],
   "source": [
    "p"
   ]
  },
  {
   "cell_type": "code",
   "execution_count": 82,
   "id": "780dd8f9",
   "metadata": {},
   "outputs": [
    {
     "data": {
      "text/plain": [
       "{6}"
      ]
     },
     "execution_count": 82,
     "metadata": {},
     "output_type": "execute_result"
    }
   ],
   "source": [
    "temp"
   ]
  },
  {
   "cell_type": "code",
   "execution_count": 83,
   "id": "75843fbf",
   "metadata": {},
   "outputs": [],
   "source": [
    "temp.add(p.pop())"
   ]
  },
  {
   "cell_type": "code",
   "execution_count": 84,
   "id": "b3ecbf48",
   "metadata": {},
   "outputs": [
    {
     "data": {
      "text/plain": [
       "{6, 7}"
      ]
     },
     "execution_count": 84,
     "metadata": {},
     "output_type": "execute_result"
    }
   ],
   "source": [
    "temp"
   ]
  },
  {
   "cell_type": "code",
   "execution_count": 86,
   "id": "0f5089fb",
   "metadata": {},
   "outputs": [],
   "source": [
    "p = []"
   ]
  },
  {
   "cell_type": "code",
   "execution_count": 87,
   "id": "34449beb",
   "metadata": {},
   "outputs": [],
   "source": [
    "py ={56, 60, 7, 78, 'c', 'c++'}"
   ]
  },
  {
   "cell_type": "code",
   "execution_count": 88,
   "id": "866e7748",
   "metadata": {},
   "outputs": [
    {
     "data": {
      "text/plain": [
       "[]"
      ]
     },
     "execution_count": 88,
     "metadata": {},
     "output_type": "execute_result"
    }
   ],
   "source": [
    "p"
   ]
  },
  {
   "cell_type": "code",
   "execution_count": 93,
   "id": "205499be",
   "metadata": {},
   "outputs": [],
   "source": [
    "p.append(py.pop())"
   ]
  },
  {
   "cell_type": "code",
   "execution_count": 94,
   "id": "971ef6ab",
   "metadata": {},
   "outputs": [
    {
     "data": {
      "text/plain": [
       "['c++']"
      ]
     },
     "execution_count": 94,
     "metadata": {},
     "output_type": "execute_result"
    }
   ],
   "source": [
    "p"
   ]
  },
  {
   "cell_type": "code",
   "execution_count": 95,
   "id": "5ed8d310",
   "metadata": {},
   "outputs": [],
   "source": [
    "#operation on diffrent set"
   ]
  },
  {
   "cell_type": "code",
   "execution_count": 96,
   "id": "28d32ccc",
   "metadata": {},
   "outputs": [],
   "source": [
    "s1 = {1,2,3,4}"
   ]
  },
  {
   "cell_type": "code",
   "execution_count": 97,
   "id": "3b6926a9",
   "metadata": {},
   "outputs": [],
   "source": [
    "s2 = {1,4,200}"
   ]
  },
  {
   "cell_type": "code",
   "execution_count": 99,
   "id": "920b1f48",
   "metadata": {},
   "outputs": [
    {
     "data": {
      "text/plain": [
       "{1, 4}"
      ]
     },
     "execution_count": 99,
     "metadata": {},
     "output_type": "execute_result"
    }
   ],
   "source": [
    "s1.intersection(s2)"
   ]
  },
  {
   "cell_type": "code",
   "execution_count": 119,
   "id": "086f48c4",
   "metadata": {},
   "outputs": [],
   "source": [
    "loan = {'arun','rahul','sunny','gunnu','banku'}"
   ]
  },
  {
   "cell_type": "code",
   "execution_count": 120,
   "id": "8e63817b",
   "metadata": {},
   "outputs": [],
   "source": [
    "credit = {'rahul','manshi','sunny','gunnu','pinku'}"
   ]
  },
  {
   "cell_type": "code",
   "execution_count": 117,
   "id": "78c3633b",
   "metadata": {},
   "outputs": [
    {
     "data": {
      "text/plain": [
       "{'gunnu', 'rahul', 'sunny'}"
      ]
     },
     "execution_count": 117,
     "metadata": {},
     "output_type": "execute_result"
    }
   ],
   "source": [
    "loan.intersection(credit)"
   ]
  },
  {
   "cell_type": "code",
   "execution_count": 122,
   "id": "9bdcce61",
   "metadata": {},
   "outputs": [
    {
     "data": {
      "text/plain": [
       "{'arun', 'banku'}"
      ]
     },
     "execution_count": 122,
     "metadata": {},
     "output_type": "execute_result"
    }
   ],
   "source": [
    "loan.difference(credit)"
   ]
  },
  {
   "cell_type": "code",
   "execution_count": 123,
   "id": "872c6b52",
   "metadata": {},
   "outputs": [
    {
     "data": {
      "text/plain": [
       "{'manshi', 'pinku'}"
      ]
     },
     "execution_count": 123,
     "metadata": {},
     "output_type": "execute_result"
    }
   ],
   "source": [
    "credit.difference(loan)"
   ]
  },
  {
   "cell_type": "code",
   "execution_count": 124,
   "id": "eaf27cd8",
   "metadata": {},
   "outputs": [
    {
     "data": {
      "text/plain": [
       "{'arun', 'banku', 'manshi', 'pinku'}"
      ]
     },
     "execution_count": 124,
     "metadata": {},
     "output_type": "execute_result"
    }
   ],
   "source": [
    "loan.symmetric_difference(credit)"
   ]
  },
  {
   "cell_type": "code",
   "execution_count": 125,
   "id": "2647fb77",
   "metadata": {},
   "outputs": [
    {
     "data": {
      "text/plain": [
       "7"
      ]
     },
     "execution_count": 125,
     "metadata": {},
     "output_type": "execute_result"
    }
   ],
   "source": [
    "len(loan.union(credit))"
   ]
  },
  {
   "cell_type": "code",
   "execution_count": 126,
   "id": "e70f2962",
   "metadata": {},
   "outputs": [],
   "source": [
    "p = {1,2,3,4,5}"
   ]
  },
  {
   "cell_type": "code",
   "execution_count": 127,
   "id": "b9de8ea6",
   "metadata": {},
   "outputs": [],
   "source": [
    "p1 = {100,200,300,400}"
   ]
  },
  {
   "cell_type": "code",
   "execution_count": 128,
   "id": "85cf532c",
   "metadata": {},
   "outputs": [
    {
     "data": {
      "text/plain": [
       "{1, 2, 3, 4, 5, 100, 200, 300, 400}"
      ]
     },
     "execution_count": 128,
     "metadata": {},
     "output_type": "execute_result"
    }
   ],
   "source": [
    "p.union(p1)"
   ]
  },
  {
   "cell_type": "code",
   "execution_count": null,
   "id": "a30656a4",
   "metadata": {},
   "outputs": [],
   "source": []
  },
  {
   "cell_type": "code",
   "execution_count": 110,
   "id": "10ee1810",
   "metadata": {},
   "outputs": [
    {
     "ename": "NameError",
     "evalue": "name 'loan' is not defined",
     "output_type": "error",
     "traceback": [
      "\u001b[1;31m---------------------------------------------------------------------------\u001b[0m",
      "\u001b[1;31mNameError\u001b[0m                                 Traceback (most recent call last)",
      "Input \u001b[1;32mIn [110]\u001b[0m, in \u001b[0;36m<cell line: 1>\u001b[1;34m()\u001b[0m\n\u001b[1;32m----> 1\u001b[0m \u001b[43mloan\u001b[49m\u001b[38;5;241m.\u001b[39msymmetric_diffrence(credit)\n",
      "\u001b[1;31mNameError\u001b[0m: name 'loan' is not defined"
     ]
    }
   ],
   "source": [
    "loan.symmetric_diffrence(credit)"
   ]
  }
 ],
 "metadata": {
  "kernelspec": {
   "display_name": "Python 3 (ipykernel)",
   "language": "python",
   "name": "python3"
  },
  "language_info": {
   "codemirror_mode": {
    "name": "ipython",
    "version": 3
   },
   "file_extension": ".py",
   "mimetype": "text/x-python",
   "name": "python",
   "nbconvert_exporter": "python",
   "pygments_lexer": "ipython3",
   "version": "3.9.12"
  }
 },
 "nbformat": 4,
 "nbformat_minor": 5
}
